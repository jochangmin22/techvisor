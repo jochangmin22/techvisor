{
 "metadata": {
  "language_info": {
   "codemirror_mode": {
    "name": "ipython",
    "version": 3
   },
   "file_extension": ".py",
   "mimetype": "text/x-python",
   "name": "python",
   "nbconvert_exporter": "python",
   "pygments_lexer": "ipython3",
   "version": "3.8.10"
  },
  "orig_nbformat": 2,
  "kernelspec": {
   "name": "python3810jvsc74a57bd04156178f93322f1c1c5a65990fed9fa10dcd454e21a64b433d3f08a7a23ad3b7",
   "display_name": "Python 3.8.10 64-bit ('techvisor': conda)"
  }
 },
 "nbformat": 4,
 "nbformat_minor": 2,
 "cells": [
  {
   "cell_type": "code",
   "execution_count": 13,
   "metadata": {},
   "outputs": [
    {
     "output_type": "stream",
     "name": "stdout",
     "text": [
      "What is claimed is:    1. A unidirectional ratchet wrench comprising: a head having a drive member for applying torque to a workpiece;  a rotatable gear disposed in the head and having gear teeth;  a bidirectional pawl disposed in the head in a first operating condition in which the pawl is pivotally engageable with the gear to allow torque-applying rotation of the gear with the head in a first direction;  a bias member adjacent the pawl to allow ratcheting rotation of the head relative to the gear in a second direction, wherein the first operating condition also includes the ratcheting rotation; and  an obstruction disposed within the head for engagement with the pawl to prevent the pawl from moving from the first operating condition to a second operating condition in which the pawl may allow ratcheting rotation of the head relative to the gear in the first direction.    2. The wrench of claim 1, wherein the pawl includes a cam surface and a bias mechanism engageable with the cam surface for biasing the pawl toward engagement with the gear. \nWhat is claimed is:    \n1. A unidirectional ratchet wrench comprising: a head having a drive member for applying torque to a workpiece;  a rotatable gear disposed in the head and having gear teeth;  a bidirectional pawl disposed in the head in a first operating condition in which the pawl is pivotally engageable with the gear to allow torque-applying rotation of the gear with the head in a first direction;  a bias member adjacent the pawl to allow ratcheting rotation of the head relative to the gear in a second direction, wherein the first operating condition also includes the ratcheting rotation; and  an obstruction disposed within the head for engagement with the pawl to prevent the pawl from moving from the first operating condition to a second operating condition in which the pawl may allow ratcheting rotation of the head relative to the gear in the first direction.    2. The wrench of claim 1, wherein the pawl includes a cam surface and a bias mechanism engageable with the cam surface for biasing the pawl toward engagement with the gear. \nbar... [1, 2]\n"
     ]
    }
   ],
   "source": [
    "import re\n",
    "\n",
    "def remove_tags(text):\n",
    "    TAG_RE = re.compile(r'<[^>]+>')\n",
    "    return TAG_RE.sub('', str(text))\n",
    "\n",
    "def trimming(data):\n",
    "    return [x.strip() for x in data]\n",
    "    \n",
    "# @timeout(0.4, use_signals=False)\n",
    "def cutting_claim(data):\n",
    "    # ([0-9]+. [A-Z])을 기준으로 자름.\n",
    "    # result = list(re.findall(r'\\d+.*?(?=[0-9]+[\\.]|\\.$)', data, re.MULTILINE))\n",
    "    # result = list(re.findall(r'\\d+.*?(?=[0-9]+[\\.] [A-Z]|\\.$)', data, re.MULTILINE))\n",
    "    result = list(map(int, re.findall(r\"(?<![^\\s>])([0-9]+)\\.\", data)))\n",
    "    return result #trimming(result) \n",
    "\n",
    "def header_exist(text):                \n",
    "    # header split if exist\n",
    "    # if \":\" in text:\n",
    "    #     header, data = text.split(\":\",1)\n",
    "    #     return [header + ':', data]\n",
    "    if text[0] != \"1\" and \"1\" in text:\n",
    "        header, data = text.split(\"1\",1)\n",
    "        return [header, '1' + data]\n",
    "    return [None, text]\n",
    "\n",
    "myString = \"\"\"<H LVL=\"1\"><STEXT><PDAT>What is claimed is: </PDAT></STEXT></H> <CL> <CLM ID=\"CLM-00001\"> <PARA ID=\"P-00026\" LVL=\"0\"><PTEXT><PDAT>1. A unidirectional ratchet wrench comprising:</PDAT></PTEXT></PARA> <CLMSTEP LVL=\"2\"><PTEXT><PDAT>a head having a drive member for applying torque to a workpiece; </PDAT></PTEXT></CLMSTEP> <CLMSTEP LVL=\"2\"><PTEXT><PDAT>a rotatable gear disposed in the head and having gear teeth; </PDAT></PTEXT></CLMSTEP> <CLMSTEP LVL=\"2\"><PTEXT><PDAT>a bidirectional pawl disposed in the head in a first operating condition in which the pawl is pivotally engageable with the gear to allow torque-applying rotation of the gear with the head in a first direction; </PDAT></PTEXT></CLMSTEP> <CLMSTEP LVL=\"2\"><PTEXT><PDAT>a bias member adjacent the pawl to allow ratcheting rotation of the head relative to the gear in a second direction, wherein the first operating condition also includes the ratcheting rotation; and </PDAT></PTEXT></CLMSTEP> <CLMSTEP LVL=\"2\"><PTEXT><PDAT>an obstruction disposed within the head for engagement with the pawl to prevent the pawl from moving from the first operating condition to a second operating condition in which the pawl may allow ratcheting rotation of the head relative to the gear in the first direction. </PDAT></PTEXT></CLMSTEP> </CLM> <CLM ID=\"CLM-00002\"> <PARA ID=\"P-00027\" LVL=\"0\"><PTEXT><PDAT>2. The wrench of </PDAT><CLREF ID=\"CLM-00001\"><PDAT>claim 1</PDAT></CLREF><PDAT>, wherein the pawl includes a cam surface and a bias mechanism engageable with the cam surface for biasing the pawl toward engagement with the gear.</PDAT></PTEXT></PARA> </CLM>\"\"\"\n",
    "\n",
    "foo = remove_tags(myString)\n",
    "\n",
    "print(foo)\n",
    "\n",
    "header, data = header_exist(foo)\n",
    "\n",
    "print(header)\n",
    "print(data)\n",
    "\n",
    "bar = cutting_claim(data)\n",
    "\n",
    "print ('bar...', bar)"
   ]
  }
 ]
}