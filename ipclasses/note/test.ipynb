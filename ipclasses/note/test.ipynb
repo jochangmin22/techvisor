{
 "metadata": {
  "language_info": {
   "codemirror_mode": {
    "name": "ipython",
    "version": 3
   },
   "file_extension": ".py",
   "mimetype": "text/x-python",
   "name": "python",
   "nbconvert_exporter": "python",
   "pygments_lexer": "ipython3",
   "version": "3.7.9-final"
  },
  "orig_nbformat": 2,
  "kernelspec": {
   "name": "python379jvsc74a57bd00c2800f7b6cc1a73e05915faba7f2c0fb8c6c6a4a0617ddec63dbc3333586caf",
   "display_name": "Python 3.7.9 64-bit"
  }
 },
 "nbformat": 4,
 "nbformat_minor": 2,
 "cells": [
  {
   "cell_type": "code",
   "execution_count": 10,
   "metadata": {},
   "outputs": [],
   "source": [
    "from bs4 import BeautifulSoup\n"
   ]
  },
  {
   "cell_type": "code",
   "execution_count": 11,
   "metadata": {},
   "outputs": [],
   "source": [
    "text = \"\"\"<html><body><sdode><p>[발명의 명칭]</p><p>HTLV-Ⅲ 바이러스 관련 펩티드, 이에 대한 항체, 백신, AIDS 바이\n",
    "러스에 대한 수동 및 자동 면역 및 AIDS 바이러스의 혈청학전 진단을 위한 진단시험</p><p></p><p>[도면의 간단\n",
    "한 설명]</p><p>제1도는 표2의 자료를 기준으로 한 H9 세포에서의 HTLV-Ⅲ레트로 바이러스의 복제를 방해하는\n",
    "티모신 α1에 대한 항혈청의 능력을 나타낸 막대 그래프이고 ;</p><p>제2도는 인체 레트로 바이러스 HTLV-Ⅲ/LAV\n",
    " 및 라우세르쥐 백혈병 레트로 바이러스(RLV) 사이의 경쟁적 방사성 면역측정법(competitive radioimmunoassay)\n",
    "의 그래프이다.</p><p>제3도는 티모신 α1 HTLV-Ⅲ/LAV, HTLV-1 및 여러 종류 동물의 레트로 바이러스 추출물에\n",
    "대한 RIA로 결정한 교차 반응성을 나타내는 막대 그래프이다.</p><p>제4도는 토끼에게 본 발명의 신규 gag 단백\n",
    "질 중의 하나를 면역시켰을 때의 전형적인 항체반응을 나타내도는 그래프이다. </p><p></p><p>본 건은 요부공개\n",
    " 건이므로 전문 내용을 수록하지 않았음 </p></sdode></body></html>\"\"\"\n",
    "\n"
   ]
  },
  {
   "cell_type": "code",
   "execution_count": 12,
   "metadata": {},
   "outputs": [],
   "source": [
    "        desc_dict = [\n",
    "        {\n",
    "        \"id\" : [\"sdode\"],\n",
    "        # \"sample\" : [\"1019970061654\"],\n",
    "        \"name\" : [\"도면의 간단한 설명\", \"발명의 상세한 설명\", \"발명의 목적\",\n",
    "                \"발명이 속하는 기술 및 그 분야의 종래기술\", \"발명이 이루고자 하는 기술적 과제\", \"발명의 구성 및 작동\", \"발명의 효과\"], \n",
    "        \"tag\" : [\"drdes\", \"\", \"\", \"bkgr\", \"tech\", \"config\", \"effect\"]\n",
    "        },{\n",
    "        \"id\" : [\"psdode\"],\n",
    "        # \"sample\" : [\"1019930701447\",\"1019930700523\", \"1019900018250\"],\n",
    "        \"name\" : [\"발명의 명칭\",\"발명의 상세한 설명\"], \n",
    "        \"tag\" : [\"\", \"pinvdes\"]\n",
    "        },{\n",
    "        \"id\" : [\"applicationbody\"],\n",
    "        \"name\" : [\"도면의 간단한 설명\", \"발명의 상세한 설명\", \"발명의 목적\",\n",
    "                \"발명이 속하는 기술 및 그 분야의 종래기술\", \"발명이 이루고자 하는 기술적 과제\", \"발명의 구성 및 작용\", \"발명의 효과\"], \n",
    "        \"tag\" : ['descriptiondrawings', '', '', 'backgroundart',\n",
    "                'abstractproblem', 'inventionconfiguration', 'advantageouseffects']\n",
    "        },{\n",
    "        \"id\" : [\"invention-title\"],\n",
    "        \"name\" : [\"기술분야\", \"배경기술\", \"발명의 내용\", \"해결 하고자하는 과제\", \n",
    "                \"과제 해결수단\", \"효과\", \"도면의 간단한 설명\", \"발명의 실시를 위한 구체적인 내용\", \"부호의 설명\"], \n",
    "        \"tag\" : ['technical-field', 'background-art', '', 'tech-problem', 'tech-solution', 'advantageous-effects', 'description-of-drawings', 'description-of-embodiments', 'reference-signs-list']\n",
    "        },{\n",
    "        \"id\" : [\"pctapplicationbody\"],\n",
    "        # \"sample\" : [\"1020047002564\"],\n",
    "        \"name\" : [\"기술분야\", \"배경기술\", \"발명의 상세한 설명\",\n",
    "                \"도면의 간단한 설명\", \"실시예\", \"산업상 이용 가능성\"], \n",
    "        \"tag\" : ['pcttechnicalfield', 'pctbackgroundart', 'pctdisclosure',\n",
    "                'pctdescriptiondrawings', 'pctexample', 'pctindustrialapplicability']\n",
    "        },{\n",
    "        \"id\" : [\"pctinventiontitle\"],\n",
    "        # \"sample\" : [\"1020097019662\"],\n",
    "        \"name\" : [\"기술분야\", \"배경기술\", \"발명의 상세한 설명\",\n",
    "                \"도면의 간단한 설명\", \"실시예\", \"산업상 이용 가능성\"],\n",
    "        \"tag\" : ['pcttechnicalfield', 'pctbackgroundart', 'pctdisclosure',\n",
    "                'pctdescriptiondrawings', 'pctexample', 'pctindustrialapplicability']\n",
    "        },{\n",
    "        \"id\" : [\"inventiontitle\",\"backgroundtech\"],\n",
    "        # \"sample\" : [\"1020080045418\"],\n",
    "        \"name\" : [\"발명의 상세한 설명\", \"기술분야\", \"배경기술\", \"발명의 내용\",\n",
    "                \"해결 하고자하는 과제\", \"과제 해결수단\", \"효과\", \"발명의 실시를 위한 구체적인 내용\", '실시 예'],\n",
    "        \"tag\" : ['', 'technicalfield', 'backgroundtech', '', 'solutionproblem',\n",
    "                'meansproblemsolution', 'effectiveness', 'inventdetailcontent', 'practiceexample']\n",
    "            },{\n",
    "        \"id\" : [\"inventiontitle\",\"backgroundart\"],\n",
    "        # \"sample\" : [\"1020050081479\"],\n",
    "        \"name\" : [\"도면의 간단한 설명\", \"발명의 상세한 설명\", \"발명의 목적\",\n",
    "                \"발명이 속하는 기술 및 그 분야의 종래기술\", \"발명이 이루고자 하는 기술적 과제\", \"발명의 구성 및 작용\", \"발명의 효과\"],\n",
    "        \"tag\" : ['descriptiondrawings', '', '', 'backgroundart',\n",
    "                'abstractproblem', 'inventionconfiguration', 'advantageouseffects']\n",
    "            },{\n",
    "        \"id\" : [\"invti\", \"invdes\"],\n",
    "        # \"sample\" : [\"1019850007359\"],\n",
    "        \"name\" : [\"발명의 명칭\", \"도면의 간단한 설명\", \"청구의 범위\",\n",
    "                \"발명의 목적\", \"배경기술\", \"기술분야\", \"발명의 구성 및 작용\",\"발명의 효과\"],\n",
    "        \"tag\" : ['invti', 'drdes', '', '','bkgr', '', '', '']\n",
    "        }\n",
    "        ]"
   ]
  },
  {
   "cell_type": "code",
   "execution_count": 16,
   "metadata": {},
   "outputs": [
    {
     "output_type": "stream",
     "name": "stdout",
     "text": [
      "['sdode'] ['도면의 간단한 설명', '발명의 상세한 설명', '발명의 목적', '발명이 속하는 기술 및 그 분야의 종래기술', '발명이 이루고자 하는 기술적 과제', '발명의 구성 및 작동', '발명의 효과'] ['drdes', '', '', 'bkgr', 'tech', 'config', 'effect']\nnone\nnone\nnone\nnone\nnone\nnone\nnone\nnone\n"
     ]
    }
   ],
   "source": [
    " bs = BeautifulSoup(text, \"lxml\") \n",
    "\n",
    "for foo in desc_dict:\n",
    "    if all(bs.find(bar) for bar in foo['id']):\n",
    "        print(foo['id'], foo['name'], foo['tag'])\n",
    "    else:\n",
    "        print('none')\n",
    "\n",
    "    #     print(foo['key'], foo['name'], foo['tag'])\n",
    "        \n",
    "    #     if bs.find_all('p', {\"n\": True}):\n",
    "    #         attrName = 'n'\n",
    "    #     elif bs.find_all('p', {\"num\": True}):                  \n",
    "    #         attrName = 'num'\n",
    "    #     else:\n",
    "    #         attrName = \"\"\n",
    "    #     result = self.description_type(bs, attrName, foo['name'], foo['tag'])\n",
    "    #     print(result)\n",
    "    #     return self.description_type(bs, attrName, foo['name'], foo['tag'])\n",
    "    # else:\n",
    "    #     print('none')\n",
    "    #     return \"\""
   ]
  },
  {
   "cell_type": "code",
   "execution_count": null,
   "metadata": {},
   "outputs": [],
   "source": []
  }
 ]
}